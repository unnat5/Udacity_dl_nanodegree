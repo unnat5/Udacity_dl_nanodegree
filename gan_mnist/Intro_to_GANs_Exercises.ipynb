{
 "cells": [
  {
   "cell_type": "markdown",
   "metadata": {},
   "source": [
    "# Generative Adversarial Network\n",
    "\n",
    "In this notebook, we'll be building a generative adversarial network (GAN) trained on the MNIST dataset. From this, we'll be able to generate new handwritten digits!\n",
    "\n",
    "GANs were [first reported on](https://arxiv.org/abs/1406.2661) in 2014 from Ian Goodfellow and others in Yoshua Bengio's lab. Since then, GANs have exploded in popularity. Here are a few examples to check out:\n",
    "\n",
    "* [Pix2Pix](https://affinelayer.com/pixsrv/) \n",
    "* [CycleGAN](https://github.com/junyanz/CycleGAN)\n",
    "* [A whole list](https://github.com/wiseodd/generative-models)\n",
    "\n",
    "The idea behind GANs is that you have two networks, a generator $G$ and a discriminator $D$, competing against each other. The generator makes fake data to pass to the discriminator. The discriminator also sees real data and predicts if the data it's received is real or fake. The generator is trained to fool the discriminator, it wants to output data that looks _as close as possible_ to real data. And the discriminator is trained to figure out which data is real and which is fake. What ends up happening is that the generator learns to make data that is indistiguishable from real data to the discriminator.\n",
    "\n",
    "![GAN diagram](assets/gan_diagram.png)\n",
    "\n",
    "The general structure of a GAN is shown in the diagram above, using MNIST images as data. The latent sample is a random vector the generator uses to contruct it's fake images. As the generator learns through training, it figures out how to map these random vectors to recognizable images that can fool the discriminator.\n",
    "\n",
    "The output of the discriminator is a sigmoid function, where 0 indicates a fake image and 1 indicates an real image. If you're interested only in generating new images, you can throw out the discriminator after training. Now, let's see how we build this thing in TensorFlow."
   ]
  },
  {
   "cell_type": "code",
   "execution_count": 1,
   "metadata": {},
   "outputs": [],
   "source": [
    "%matplotlib inline\n",
    "\n",
    "import pickle as pkl\n",
    "import numpy as np\n",
    "import tensorflow as tf\n",
    "import matplotlib.pyplot as plt"
   ]
  },
  {
   "cell_type": "code",
   "execution_count": 2,
   "metadata": {},
   "outputs": [
    {
     "name": "stdout",
     "output_type": "stream",
     "text": [
      "Extracting MNIST_data/train-images-idx3-ubyte.gz\n",
      "Extracting MNIST_data/train-labels-idx1-ubyte.gz\n",
      "Extracting MNIST_data/t10k-images-idx3-ubyte.gz\n",
      "Extracting MNIST_data/t10k-labels-idx1-ubyte.gz\n"
     ]
    }
   ],
   "source": [
    "from tensorflow.examples.tutorials.mnist import input_data\n",
    "mnist = input_data.read_data_sets('MNIST_data')"
   ]
  },
  {
   "cell_type": "markdown",
   "metadata": {},
   "source": [
    "## Model Inputs\n",
    "\n",
    "First we need to create the inputs for our graph. We need two inputs, one for the discriminator and one for the generator. Here we'll call the discriminator input `inputs_real` and the generator input `inputs_z`. We'll assign them the appropriate sizes for each of the networks.\n",
    "\n",
    ">**Exercise:** Finish the `model_inputs` function below. Create the placeholders for `inputs_real` and `inputs_z` using the input sizes `real_dim` and `z_dim` respectively."
   ]
  },
  {
   "cell_type": "code",
   "execution_count": 3,
   "metadata": {},
   "outputs": [],
   "source": [
    "def model_inputs(real_dim, z_dim):\n",
    "    inputs_real = tf.placeholder(tf.float32,shape=[None,real_dim],name=\"input_real\")\n",
    "    inputs_z = tf.placeholder(tf.float32,shape = [None,z_dim],name=\"input_z\")\n",
    "    \n",
    "    return inputs_real, inputs_z"
   ]
  },
  {
   "cell_type": "markdown",
   "metadata": {},
   "source": [
    "## Generator network\n",
    "\n",
    "![GAN Network](assets/gan_network.png)\n",
    "\n",
    "Here we'll build the generator network. To make this network a universal function approximator, we'll need at least one hidden layer. We should use a leaky ReLU to allow gradients to flow backwards through the layer unimpeded. A leaky ReLU is like a normal ReLU, except that there is a small non-zero output for negative input values.\n",
    "\n",
    "#### Variable Scope\n",
    "Here we need to use `tf.variable_scope` for two reasons. Firstly, we're going to make sure all the variable names start with `generator`. Similarly, we'll prepend `discriminator` to the discriminator variables. This will help out later when we're training the separate networks.\n",
    "\n",
    "We could just use `tf.name_scope` to set the names, but we also want to reuse these networks with different inputs. For the generator, we're going to train it, but also _sample from it_ as we're training and after training. The discriminator will need to share variables between the fake and real input images. So, we can use the `reuse` keyword for `tf.variable_scope` to tell TensorFlow to reuse the variables instead of creating new ones if we build the graph again.\n",
    "\n",
    "To use `tf.variable_scope`, you use a `with` statement:\n",
    "```python\n",
    "with tf.variable_scope('scope_name', reuse=False):\n",
    "    # code here\n",
    "```\n",
    "\n",
    "Here's more from [the TensorFlow documentation](https://www.tensorflow.org/programmers_guide/variable_scope#the_problem) to get another look at using `tf.variable_scope`.\n",
    "\n",
    "#### Leaky ReLU\n",
    "TensorFlow doesn't provide an operation for leaky ReLUs, so we'll need to make one . For this you can just take the outputs from a linear fully connected layer and pass them to `tf.maximum`. Typically, a parameter `alpha` sets the magnitude of the output for negative values. So, the output for negative input (`x`) values is `alpha*x`, and the output for positive `x` is `x`:\n",
    "$$\n",
    "f(x) = max(\\alpha * x, x)\n",
    "$$\n",
    "\n",
    "#### Tanh Output\n",
    "The generator has been found to perform the best with $tanh$ for the generator output. This means that we'll have to rescale the MNIST images to be between -1 and 1, instead of 0 and 1.\n",
    "\n",
    ">**Exercise:** Implement the generator network in the function below. You'll need to return the tanh output. Make sure to wrap your code in a variable scope, with 'generator' as the scope name, and pass the `reuse` keyword argument from the function to `tf.variable_scope`."
   ]
  },
  {
   "cell_type": "code",
   "execution_count": 4,
   "metadata": {},
   "outputs": [],
   "source": [
    "def generator(z, out_dim, n_units=128, reuse=False,  alpha=0.01):\n",
    "    ''' Build the generator network.\n",
    "    \n",
    "        Arguments\n",
    "        ---------\n",
    "        z : Input tensor for the generator\n",
    "        out_dim : Shape of the generator output\n",
    "        n_units : Number of units in hidden layer\n",
    "        reuse : Reuse the variables with tf.variable_scope\n",
    "        alpha : leak parameter for leaky ReLU\n",
    "        \n",
    "        Returns\n",
    "        -------\n",
    "        out: \n",
    "    '''\n",
    "    with tf.variable_scope(\"generator\",reuse=reuse): # finish this\n",
    "        # Hidden layer\n",
    "        #dim = int(z.get_shape()[1])\n",
    "        #weight_hidden = tf.Variable(tf.truncated_normal(shape=[dim,n_units],\n",
    "                                                      # stddev=0.1),name = \"weight_hidden\")\n",
    "        #biases_hidden = tf.Variable(tf.zeros(n_units),name=\"biases_hidden\")\n",
    "        def leakyReLU(input_):\n",
    "               return tf.maximum(alpha*input_,input_)\n",
    "           \n",
    "        h1 = tf.contrib.layers.fully_connected(z,n_units,\n",
    "                                                   activation_fn=None,\n",
    "                                                   weights_initializer=tf.truncated_normal_initializer(stddev=0.1),\n",
    "                                                  biases_initializer=tf.zeros_initializer())\n",
    "        # Leaky ReLU\n",
    "        h1 = leakyReLU(h1)\n",
    "        \n",
    "        # Logits and tanh output\n",
    "        logits = tf.contrib.layers.fully_connected(h1,out_dim,\n",
    "                                                   activation_fn=None,\n",
    "                                                   weights_initializer=tf.truncated_normal_initializer(stddev=0.1),\n",
    "                                                  biases_initializer=tf.zeros_initializer())\n",
    "        out = tf.tanh(logits)\n",
    "        \n",
    "        return out"
   ]
  },
  {
   "cell_type": "markdown",
   "metadata": {},
   "source": [
    "def generator(z, out_dim, n_units=128, reuse=False, alpha=0.01):\n",
    "    with tf.variable_scope('generator', reuse=reuse):\n",
    "        # Hidden layer\n",
    "        h1 = tf.layers.dense(z, n_units, activation=None)\n",
    "        # Leaky ReLU\n",
    "        h1 = tf.maximum(alpha * h1, h1)\n",
    "        \n",
    "        # Logits and tanh output\n",
    "        logits = tf.layers.dense(h1, out_dim, activation=None)\n",
    "        out = tf.tanh(logits)\n",
    "        \n",
    "        return out"
   ]
  },
  {
   "cell_type": "code",
   "execution_count": 5,
   "metadata": {},
   "outputs": [],
   "source": [
    "\n",
    "#inputs_z = tf.placeholder(tf.float32,shape = [None,125],name=\"input_z\")\n",
    "#dim = inputs_z.get_shape()[1]\n",
    "#dim = int(dim) ## this tricked me \n",
    "#n_units =128\n",
    "#print(dim)\n",
    "#tf.truncated_normal((dim,n_units))"
   ]
  },
  {
   "cell_type": "markdown",
   "metadata": {},
   "source": [
    "## Discriminator\n",
    "\n",
    "The discriminator network is almost exactly the same as the generator network, except that we're using a sigmoid output layer.\n",
    "\n",
    ">**Exercise:** Implement the discriminator network in the function below. Same as above, you'll need to return both the logits and the sigmoid output. Make sure to wrap your code in a variable scope, with 'discriminator' as the scope name, and pass the `reuse` keyword argument from the function arguments to `tf.variable_scope`."
   ]
  },
  {
   "cell_type": "code",
   "execution_count": 6,
   "metadata": {},
   "outputs": [],
   "source": [
    "def discriminator(x, n_units=128, reuse=False, alpha=0.01):\n",
    "    ''' Build the discriminator network.\n",
    "    \n",
    "        Arguments\n",
    "        ---------\n",
    "        x : Input tensor for the discriminator\n",
    "        n_units: Number of units in hidden layer\n",
    "        reuse : Reuse the variables with tf.variable_scope\n",
    "        alpha : leak parameter for leaky ReLU\n",
    "        \n",
    "        Returns\n",
    "        -------\n",
    "        out, logits: \n",
    "    '''\n",
    "    with tf.variable_scope(\"discriminator\",reuse=reuse): \n",
    "        # finish this\n",
    "        # Hidden layer\n",
    "        def leakyReLU(input_):\n",
    "               return tf.maximum(alpha*input_,input_)\n",
    "        h1 = tf.contrib.layers.fully_connected(x,n_units,activation_fn=None,\n",
    "                                               weights_initializer=tf.truncated_normal_initializer(stddev=0.1),\n",
    "                                                  biases_initializer=tf.zeros_initializer())\n",
    "        # Leaky ReLU\n",
    "        h1 = leakyReLU(h1)\n",
    "        \n",
    "        logits = tf.contrib.layers.fully_connected(h1,1,activation_fn=None,\n",
    "                                               weights_initializer=tf.truncated_normal_initializer(stddev=0.1),\n",
    "                                                  biases_initializer=tf.zeros_initializer())\n",
    "        out = tf.sigmoid(logits)\n",
    "        \n",
    "        return out, logits"
   ]
  },
  {
   "cell_type": "markdown",
   "metadata": {},
   "source": [
    "## Hyperparameters"
   ]
  },
  {
   "cell_type": "code",
   "execution_count": 7,
   "metadata": {},
   "outputs": [],
   "source": [
    "# Size of input image to discriminator\n",
    "input_size = 784 # 28x28 MNIST images flattened\n",
    "# Size of latent vector to generator\n",
    "z_size = 100\n",
    "# Sizes of hidden layers in generator and discriminator\n",
    "g_hidden_size = 128\n",
    "d_hidden_size = 128\n",
    "# Leak factor for leaky ReLU\n",
    "alpha = 0.01\n",
    "# Label smoothing \n",
    "smooth = 0.1"
   ]
  },
  {
   "cell_type": "markdown",
   "metadata": {},
   "source": [
    "## Build network\n",
    "\n",
    "Now we're building the network from the functions defined above.\n",
    "\n",
    "First is to get our inputs, `input_real, input_z` from `model_inputs` using the sizes of the input and z.\n",
    "\n",
    "Then, we'll create the generator, `generator(input_z, input_size)`. This builds the generator with the appropriate input and output sizes.\n",
    "\n",
    "Then the discriminators. We'll build two of them, one for real data and one for fake data. Since we want the weights to be the same for both real and fake data, we need to reuse the variables. For the fake data, we're getting it from the generator as `g_model`. So the real data discriminator is `discriminator(input_real)` while the fake discriminator is `discriminator(g_model, reuse=True)`.\n",
    "\n",
    ">**Exercise:** Build the network from the functions you defined earlier."
   ]
  },
  {
   "cell_type": "code",
   "execution_count": 8,
   "metadata": {},
   "outputs": [],
   "source": [
    "tf.reset_default_graph()\n",
    "# Create our input placeholders\n",
    "input_real, input_z = model_inputs(real_dim=input_size, z_dim=z_size)\n",
    "# Generator network here\n",
    "g_model = generator(input_z,input_size)\n",
    "# g_model is the generator output\n",
    "\n",
    "# Disriminator network here\n",
    "d_model_real, d_logits_real =  discriminator(input_real)\n",
    "d_model_fake, d_logits_fake = discriminator(g_model,reuse=True)"
   ]
  },
  {
   "cell_type": "markdown",
   "metadata": {},
   "source": [
    "## Discriminator and Generator Losses\n",
    "\n",
    "Now we need to calculate the losses, which is a little tricky. For the discriminator, the total loss is the sum of the losses for real and fake images, `d_loss = d_loss_real + d_loss_fake`. The losses will by sigmoid cross-entropies, which we can get with `tf.nn.sigmoid_cross_entropy_with_logits`. We'll also wrap that in `tf.reduce_mean` to get the mean for all the images in the batch. So the losses will look something like \n",
    "\n",
    "```python\n",
    "tf.reduce_mean(tf.nn.sigmoid_cross_entropy_with_logits(logits=logits, labels=labels))\n",
    "```\n",
    "\n",
    "For the real image logits, we'll use `d_logits_real` which we got from the discriminator in the cell above. For the labels, we want them to be all ones, since these are all real images. To help the discriminator generalize better, the labels are reduced a bit from 1.0 to 0.9, for example,  using the parameter `smooth`. This is known as label smoothing, typically used with classifiers to improve performance. In TensorFlow, it looks something like `labels = tf.ones_like(tensor) * (1 - smooth)`\n",
    "\n",
    "The discriminator loss for the fake data is similar. The logits are `d_logits_fake`, which we got from passing the generator output to the discriminator. These fake logits are used with labels of all zeros. Remember that we want the discriminator to output 1 for real images and 0 for fake images, so we need to set up the losses to reflect that.\n",
    "\n",
    "Finally, the generator losses are using `d_logits_fake`, the fake image logits. But, now the labels are all ones. The generator is trying to fool the discriminator, so it wants to discriminator to output ones for fake images.\n",
    "\n",
    ">**Exercise:** Calculate the losses for the discriminator and the generator. There are two discriminator losses, one for real images and one for fake images. For the real image loss, use the real logits and (smoothed) labels of ones. For the fake image loss, use the fake logits with labels of all zeros. The total discriminator loss is the sum of those two losses. Finally, the generator loss again uses the fake logits from the discriminator, but this time the labels are all ones because the generator wants to fool the discriminator."
   ]
  },
  {
   "cell_type": "code",
   "execution_count": null,
   "metadata": {},
   "outputs": [],
   "source": []
  },
  {
   "cell_type": "code",
   "execution_count": 9,
   "metadata": {},
   "outputs": [],
   "source": [
    "# Calculate losses\n",
    "labels_real_dis = tf.ones_like(d_logits_real) * (1- smooth)\n",
    "label_fake_dis = tf.zeros_like(d_logits_real)\n",
    "d_loss_real = tf.reduce_mean(tf.nn.sigmoid_cross_entropy_with_logits(logits=d_logits_real,\n",
    "                                                                    labels=labels_real_dis))\n",
    "\n",
    "\n",
    "d_loss_fake = tf.reduce_mean(tf.nn.sigmoid_cross_entropy_with_logits(logits=d_logits_fake,labels=label_fake_dis))\n",
    "\n",
    "d_loss = d_loss_real+d_loss_fake\n",
    "\n",
    "labels_fake_gen = tf.ones_like(d_logits_fake)*(1 - smooth)\n",
    "g_loss = tf.reduce_mean(tf.nn.sigmoid_cross_entropy_with_logits(logits=d_logits_fake,\n",
    "                                                               labels=labels_fake_gen))"
   ]
  },
  {
   "cell_type": "markdown",
   "metadata": {},
   "source": [
    "## Optimizers\n",
    "\n",
    "We want to update the generator and discriminator variables separately. So we need to get the variables for each part and build optimizers for the two parts. To get all the trainable variables, we use `tf.trainable_variables()`. This creates a list of all the variables we've defined in our graph.\n",
    "\n",
    "For the generator optimizer, we only want to generator variables. Our past selves were nice and used a variable scope to start all of our generator variable names with `generator`. So, we just need to iterate through the list from `tf.trainable_variables()` and keep variables that start with `generator`. Each variable object has an attribute `name` which holds the name of the variable as a string (`var.name == 'weights_0'` for instance). \n",
    "\n",
    "We can do something similar with the discriminator. All the variables in the discriminator start with `discriminator`.\n",
    "\n",
    "Then, in the optimizer we pass the variable lists to the `var_list` keyword argument of the `minimize` method. This tells the optimizer to only update the listed variables. Something like `tf.train.AdamOptimizer().minimize(loss, var_list=var_list)` will only train the variables in `var_list`.\n",
    "\n",
    ">**Exercise: ** Below, implement the optimizers for the generator and discriminator. First you'll need to get a list of trainable variables, then split that list into two lists, one for the generator variables and another for the discriminator variables. Finally, using `AdamOptimizer`, create an optimizer for each network that update the network variables separately."
   ]
  },
  {
   "cell_type": "code",
   "execution_count": 10,
   "metadata": {},
   "outputs": [],
   "source": [
    "# Optimizers\n",
    "learning_rate = 0.002\n",
    "\n",
    "# Get the trainable_variables, split into G and D parts\n",
    "t_vars = tf.trainable_variables()\n",
    "g_vars = [lst for lst in t_vars if \"generator\" in str(lst)]\n",
    "d_vars = [lst for lst in t_vars if \"discriminator\" in str(lst)]\n",
    "\n",
    "d_train_opt = tf.train.AdamOptimizer(learning_rate).minimize(d_loss,\n",
    "                                                             var_list = d_vars)\n",
    "g_train_opt = tf.train.AdamOptimizer(learning_rate).minimize(g_loss,\n",
    "                                                            var_list=g_vars)"
   ]
  },
  {
   "cell_type": "code",
   "execution_count": 11,
   "metadata": {},
   "outputs": [],
   "source": [
    "## Just playing arounf building Idea!!\n"
   ]
  },
  {
   "cell_type": "code",
   "execution_count": 12,
   "metadata": {},
   "outputs": [
    {
     "data": {
      "text/plain": [
       "[<tf.Variable 'discriminator/fully_connected/weights:0' shape=(784, 128) dtype=float32_ref>,\n",
       " <tf.Variable 'discriminator/fully_connected/biases:0' shape=(128,) dtype=float32_ref>,\n",
       " <tf.Variable 'discriminator/fully_connected_1/weights:0' shape=(128, 1) dtype=float32_ref>,\n",
       " <tf.Variable 'discriminator/fully_connected_1/biases:0' shape=(1,) dtype=float32_ref>]"
      ]
     },
     "execution_count": 12,
     "metadata": {},
     "output_type": "execute_result"
    }
   ],
   "source": [
    "## Just playing arounf building Idea!!\n",
    "[lst for lst in t_vars if \"discriminator\" in str(lst)]"
   ]
  },
  {
   "cell_type": "markdown",
   "metadata": {},
   "source": [
    "## Training"
   ]
  },
  {
   "cell_type": "code",
   "execution_count": 14,
   "metadata": {},
   "outputs": [
    {
     "name": "stdout",
     "output_type": "stream",
     "text": [
      "Epoch 100/1... Discriminator Loss: 0.4958... Generator Loss: 2.2258\n",
      "Epoch 100/2... Discriminator Loss: 0.9302... Generator Loss: 3.4022\n",
      "Epoch 100/3... Discriminator Loss: 1.2031... Generator Loss: 3.1003\n",
      "Epoch 100/4... Discriminator Loss: 1.2741... Generator Loss: 2.7012\n",
      "Epoch 100/5... Discriminator Loss: 1.2033... Generator Loss: 1.6360\n",
      "Epoch 100/6... Discriminator Loss: 1.2109... Generator Loss: 1.5040\n",
      "Epoch 100/7... Discriminator Loss: 1.2333... Generator Loss: 1.3223\n",
      "Epoch 100/8... Discriminator Loss: 2.4104... Generator Loss: 2.2189\n",
      "Epoch 100/9... Discriminator Loss: 1.7497... Generator Loss: 1.1595\n",
      "Epoch 100/10... Discriminator Loss: 1.1093... Generator Loss: 1.3762\n",
      "Epoch 100/11... Discriminator Loss: 1.1166... Generator Loss: 1.2785\n",
      "Epoch 100/12... Discriminator Loss: 1.1892... Generator Loss: 1.2534\n",
      "Epoch 100/13... Discriminator Loss: 0.9829... Generator Loss: 1.6782\n",
      "Epoch 100/14... Discriminator Loss: 1.2895... Generator Loss: 2.3458\n",
      "Epoch 100/15... Discriminator Loss: 0.9215... Generator Loss: 1.8549\n",
      "Epoch 100/16... Discriminator Loss: 1.1771... Generator Loss: 1.8347\n",
      "Epoch 100/17... Discriminator Loss: 1.0192... Generator Loss: 1.6144\n",
      "Epoch 100/18... Discriminator Loss: 1.6065... Generator Loss: 1.5546\n",
      "Epoch 100/19... Discriminator Loss: 1.0047... Generator Loss: 1.3498\n",
      "Epoch 100/20... Discriminator Loss: 0.8826... Generator Loss: 1.8483\n",
      "Epoch 100/21... Discriminator Loss: 0.7986... Generator Loss: 1.9173\n",
      "Epoch 100/22... Discriminator Loss: 1.2227... Generator Loss: 1.7550\n",
      "Epoch 100/23... Discriminator Loss: 0.9431... Generator Loss: 2.1853\n",
      "Epoch 100/24... Discriminator Loss: 1.6627... Generator Loss: 1.3000\n",
      "Epoch 100/25... Discriminator Loss: 1.5893... Generator Loss: 1.3573\n",
      "Epoch 100/26... Discriminator Loss: 0.9558... Generator Loss: 2.5688\n",
      "Epoch 100/27... Discriminator Loss: 1.0568... Generator Loss: 1.4026\n",
      "Epoch 100/28... Discriminator Loss: 0.9200... Generator Loss: 1.8214\n",
      "Epoch 100/29... Discriminator Loss: 1.3622... Generator Loss: 1.3124\n",
      "Epoch 100/30... Discriminator Loss: 1.3424... Generator Loss: 1.3296\n",
      "Epoch 100/31... Discriminator Loss: 1.2522... Generator Loss: 1.7413\n",
      "Epoch 100/32... Discriminator Loss: 0.9596... Generator Loss: 1.8739\n",
      "Epoch 100/33... Discriminator Loss: 1.0698... Generator Loss: 1.3590\n",
      "Epoch 100/34... Discriminator Loss: 1.1143... Generator Loss: 3.8150\n",
      "Epoch 100/35... Discriminator Loss: 1.2889... Generator Loss: 1.4474\n",
      "Epoch 100/36... Discriminator Loss: 1.2547... Generator Loss: 1.8064\n",
      "Epoch 100/37... Discriminator Loss: 1.0253... Generator Loss: 1.7997\n",
      "Epoch 100/38... Discriminator Loss: 1.0562... Generator Loss: 1.8667\n",
      "Epoch 100/39... Discriminator Loss: 1.0935... Generator Loss: 1.8289\n",
      "Epoch 100/40... Discriminator Loss: 0.9532... Generator Loss: 2.0542\n",
      "Epoch 100/41... Discriminator Loss: 1.0518... Generator Loss: 1.6008\n",
      "Epoch 100/42... Discriminator Loss: 1.1595... Generator Loss: 1.8595\n",
      "Epoch 100/43... Discriminator Loss: 1.3086... Generator Loss: 1.3854\n",
      "Epoch 100/44... Discriminator Loss: 1.2174... Generator Loss: 1.7737\n",
      "Epoch 100/45... Discriminator Loss: 1.0509... Generator Loss: 1.6302\n",
      "Epoch 100/46... Discriminator Loss: 1.0211... Generator Loss: 1.7840\n",
      "Epoch 100/47... Discriminator Loss: 0.9414... Generator Loss: 1.7270\n",
      "Epoch 100/48... Discriminator Loss: 0.9113... Generator Loss: 2.3256\n",
      "Epoch 100/49... Discriminator Loss: 1.0629... Generator Loss: 2.3922\n",
      "Epoch 100/50... Discriminator Loss: 1.2818... Generator Loss: 1.5065\n",
      "Epoch 100/51... Discriminator Loss: 0.7532... Generator Loss: 2.1080\n",
      "Epoch 100/52... Discriminator Loss: 0.8665... Generator Loss: 2.1846\n",
      "Epoch 100/53... Discriminator Loss: 0.8423... Generator Loss: 2.3816\n",
      "Epoch 100/54... Discriminator Loss: 0.8645... Generator Loss: 1.8139\n",
      "Epoch 100/55... Discriminator Loss: 1.2282... Generator Loss: 1.6295\n",
      "Epoch 100/56... Discriminator Loss: 1.0506... Generator Loss: 1.4844\n",
      "Epoch 100/57... Discriminator Loss: 0.9925... Generator Loss: 1.7771\n",
      "Epoch 100/58... Discriminator Loss: 0.9923... Generator Loss: 1.8471\n",
      "Epoch 100/59... Discriminator Loss: 0.8976... Generator Loss: 2.0613\n",
      "Epoch 100/60... Discriminator Loss: 0.9879... Generator Loss: 2.2703\n",
      "Epoch 100/61... Discriminator Loss: 1.0291... Generator Loss: 1.5658\n",
      "Epoch 100/62... Discriminator Loss: 1.3229... Generator Loss: 1.0298\n",
      "Epoch 100/63... Discriminator Loss: 1.2681... Generator Loss: 1.4428\n",
      "Epoch 100/64... Discriminator Loss: 1.2334... Generator Loss: 1.2692\n",
      "Epoch 100/65... Discriminator Loss: 0.9735... Generator Loss: 1.8742\n",
      "Epoch 100/66... Discriminator Loss: 1.0461... Generator Loss: 1.3869\n",
      "Epoch 100/67... Discriminator Loss: 1.0904... Generator Loss: 1.6433\n",
      "Epoch 100/68... Discriminator Loss: 1.1082... Generator Loss: 1.4240\n",
      "Epoch 100/69... Discriminator Loss: 0.9466... Generator Loss: 1.8564\n",
      "Epoch 100/70... Discriminator Loss: 1.1699... Generator Loss: 1.5388\n",
      "Epoch 100/71... Discriminator Loss: 0.9058... Generator Loss: 2.0129\n",
      "Epoch 100/72... Discriminator Loss: 0.8783... Generator Loss: 1.6565\n",
      "Epoch 100/73... Discriminator Loss: 0.9589... Generator Loss: 1.5452\n",
      "Epoch 100/74... Discriminator Loss: 1.1554... Generator Loss: 1.4050\n",
      "Epoch 100/75... Discriminator Loss: 0.9080... Generator Loss: 1.7681\n",
      "Epoch 100/76... Discriminator Loss: 1.0288... Generator Loss: 1.9371\n",
      "Epoch 100/77... Discriminator Loss: 0.8589... Generator Loss: 1.9576\n",
      "Epoch 100/78... Discriminator Loss: 0.8048... Generator Loss: 2.0379\n",
      "Epoch 100/79... Discriminator Loss: 1.0792... Generator Loss: 1.6986\n",
      "Epoch 100/80... Discriminator Loss: 1.0099... Generator Loss: 1.7502\n",
      "Epoch 100/81... Discriminator Loss: 0.9854... Generator Loss: 2.0046\n",
      "Epoch 100/82... Discriminator Loss: 1.2775... Generator Loss: 1.3156\n",
      "Epoch 100/83... Discriminator Loss: 0.9415... Generator Loss: 1.7612\n",
      "Epoch 100/84... Discriminator Loss: 0.8722... Generator Loss: 1.7443\n",
      "Epoch 100/85... Discriminator Loss: 1.0508... Generator Loss: 1.5066\n",
      "Epoch 100/86... Discriminator Loss: 1.0620... Generator Loss: 1.3900\n",
      "Epoch 100/87... Discriminator Loss: 0.8368... Generator Loss: 1.9276\n",
      "Epoch 100/88... Discriminator Loss: 1.0482... Generator Loss: 1.8903\n",
      "Epoch 100/89... Discriminator Loss: 0.9906... Generator Loss: 1.6920\n",
      "Epoch 100/90... Discriminator Loss: 0.8995... Generator Loss: 1.6588\n",
      "Epoch 100/91... Discriminator Loss: 0.9179... Generator Loss: 1.8705\n",
      "Epoch 100/92... Discriminator Loss: 1.0777... Generator Loss: 1.4270\n",
      "Epoch 100/93... Discriminator Loss: 0.8763... Generator Loss: 1.8770\n",
      "Epoch 100/94... Discriminator Loss: 1.0621... Generator Loss: 1.4612\n",
      "Epoch 100/95... Discriminator Loss: 0.9656... Generator Loss: 1.6165\n",
      "Epoch 100/96... Discriminator Loss: 1.0924... Generator Loss: 1.3419\n",
      "Epoch 100/97... Discriminator Loss: 0.9227... Generator Loss: 1.5966\n",
      "Epoch 100/98... Discriminator Loss: 1.3009... Generator Loss: 1.2557\n",
      "Epoch 100/99... Discriminator Loss: 1.1301... Generator Loss: 1.7997\n",
      "Epoch 100/100... Discriminator Loss: 1.1691... Generator Loss: 1.7758\n"
     ]
    }
   ],
   "source": [
    "batch_size = 100\n",
    "epochs = 100\n",
    "counter = 1\n",
    "samples = []\n",
    "losses = []\n",
    "saver = tf.train.Saver(var_list = g_vars)\n",
    "with tf.Session() as sess:\n",
    "    sess.run(tf.global_variables_initializer())\n",
    "    ## above we have initialized our variables\n",
    "    for e in range(epochs):\n",
    "        counter +=1\n",
    "        for ii in range(mnist.train.num_examples//batch_size):\n",
    "            ##above we have done that to get number of batches\n",
    "            batch = mnist.train.next_batch(batch_size)\n",
    "            ## Its a inbuild method form mnist dataset to get next batched\n",
    "            # Get images, reshape and rescale to pass to D\n",
    "            batch_images = batch[0].reshape((batch_size, 784))\n",
    "            batch_images = batch_images*2 - 1\n",
    "            ## above normalizing our image form -1 to 1\n",
    "            # Sample random noise for G\n",
    "            batch_z = np.random.uniform(-1, 1, size=(batch_size, z_size))\n",
    "            ## above we are creating random uniform noise for generator to \n",
    "            ## make images\n",
    "            \n",
    "            # Run optimizers\n",
    "            _ = sess.run(d_train_opt, feed_dict={input_real: batch_images, input_z: batch_z})\n",
    "            ## above we are optimizing discriminator network which consists of both\n",
    "            ## real and fake image.\n",
    "            _ = sess.run(g_train_opt, feed_dict={input_z: batch_z})\n",
    "            ## above are optimizing generator network.\n",
    "        \n",
    "        # At the end of each epoch, get the losses and print them out\n",
    "        ## so while calculating discriminator we need both random noise and\n",
    "        ## real image.\n",
    "        train_loss_d = sess.run(d_loss, {input_z: batch_z, input_real: batch_images})\n",
    " \n",
    "        train_loss_g = g_loss.eval({input_z: batch_z})\n",
    "        #print(train_loss_g)\n",
    "        ##this is a new of calculating loss which I have seen.\n",
    "        ## here we are calculating losses for both network generator and \n",
    "        ## discriminator \n",
    "        \n",
    "        print(\"Epoch {}/{}...\" .format(epochs,e+1),\n",
    "              \"Discriminator Loss: {:.4f}...\".format(train_loss_d),\n",
    "              \"Generator Loss: {:.4f}\".format(train_loss_g))    \n",
    "        # Save losses to view after training\n",
    "        losses.append((train_loss_d, train_loss_g))\n",
    "        \n",
    "        # Sample from generator as we're training for viewing afterwards\n",
    "        sample_z = np.random.uniform(-1, 1, size=(16, z_size))\n",
    "        gen_samples = sess.run(\n",
    "                        generator(input_z, input_size, n_units=g_hidden_size, reuse=True, alpha=alpha),\n",
    "                        feed_dict={input_z: sample_z})\n",
    "        samples.append(gen_samples)\n",
    "        saver.save(sess, './checkpoints/generator.ckpt')\n",
    "\n",
    "# Save training generator samples\n",
    "with open('train_samples.pkl', 'wb') as f:\n",
    "    pkl.dump(samples, f)"
   ]
  },
  {
   "cell_type": "markdown",
   "metadata": {},
   "source": [
    "## Training loss\n",
    "\n",
    "Here we'll check out the training losses for the generator and discriminator."
   ]
  },
  {
   "cell_type": "code",
   "execution_count": 15,
   "metadata": {},
   "outputs": [],
   "source": [
    "%matplotlib inline\n",
    "\n",
    "import matplotlib.pyplot as plt"
   ]
  },
  {
   "cell_type": "code",
   "execution_count": 16,
   "metadata": {},
   "outputs": [
    {
     "data": {
      "text/plain": [
       "<matplotlib.legend.Legend at 0x7f5ddaa8eda0>"
      ]
     },
     "execution_count": 16,
     "metadata": {},
     "output_type": "execute_result"
    },
    {
     "data": {
      "image/png": "[encoded data removed]",
      "text/plain": [
       "<matplotlib.figure.Figure at 0x7f5ddd9277f0>"
      ]
     },
     "metadata": {},
     "output_type": "display_data"
    }
   ],
   "source": [
    "fig, ax = plt.subplots()\n",
    "losses = np.array(losses)\n",
    "plt.plot(losses.T[0], label='Discriminator')\n",
    "plt.plot(losses.T[1], label='Generator')\n",
    "plt.title(\"Training Losses\")\n",
    "plt.legend()"
   ]
  },
  {
   "cell_type": "markdown",
   "metadata": {},
   "source": [
    "## Generator samples from training\n",
    "\n",
    "Here we can view samples of images from the generator. First we'll look at images taken while training."
   ]
  },
  {
   "cell_type": "code",
   "execution_count": 17,
   "metadata": {},
   "outputs": [],
   "source": [
    "def view_samples(epoch, samples):\n",
    "    fig, axes = plt.subplots(figsize=(7,7), nrows=4, ncols=4, sharey=True, sharex=True)\n",
    "    for ax, img in zip(axes.flatten(), samples[epoch]):\n",
    "        ax.xaxis.set_visible(False)\n",
    "        ax.yaxis.set_visible(False)\n",
    "        im = ax.imshow(img.reshape((28,28)), cmap='Greys_r')\n",
    "    \n",
    "    return fig, axes"
   ]
  },
  {
   "cell_type": "code",
   "execution_count": 18,
   "metadata": {},
   "outputs": [],
   "source": [
    "# Load samples from generator taken while training\n",
    "with open('train_samples.pkl', 'rb') as f:\n",
    "    samples = pkl.load(f)"
   ]
  },
  {
   "cell_type": "markdown",
   "metadata": {},
   "source": [
    "These are samples from the final training epoch. You can see the generator is able to reproduce numbers like 5, 7, 3, 0, 9. Since this is just a sample, it isn't representative of the full range of images this generator can make."
   ]
  },
  {
   "cell_type": "code",
   "execution_count": 19,
   "metadata": {},
   "outputs": [
    {
     "data": {
      "image/png": "[encoded data removed]",
      "text/plain": [
       "<matplotlib.figure.Figure at 0x7f5dda563048>"
      ]
     },
     "metadata": {},
     "output_type": "display_data"
    }
   ],
   "source": [
    "_ = view_samples(-1, samples)"
   ]
  },
  {
   "cell_type": "markdown",
   "metadata": {},
   "source": [
    "Below I'm showing the generated images as the network was training, every 10 epochs. With bonus optical illusion!"
   ]
  },
  {
   "cell_type": "code",
   "execution_count": null,
   "metadata": {},
   "outputs": [],
   "source": [
    "rows, cols = 10, 6\n",
    "fig, axes = plt.subplots(figsize=(7,12), nrows=rows, ncols=cols, sharex=True, sharey=True)\n",
    "\n",
    "for sample, ax_row in zip(samples[::int(len(samples)/rows)], axes):\n",
    "    for img, ax in zip(sample[::int(len(sample)/cols)], ax_row):\n",
    "        ax.imshow(img.reshape((28,28)), cmap='Greys_r')\n",
    "        ax.xaxis.set_visible(False)\n",
    "        ax.yaxis.set_visible(False)"
   ]
  },
  {
   "cell_type": "markdown",
   "metadata": {},
   "source": [
    "It starts out as all noise. Then it learns to make only the center white and the rest black. You can start to see some number like structures appear out of the noise. Looks like 1, 9, and 8 show up first. Then, it learns 5 and 3."
   ]
  },
  {
   "cell_type": "markdown",
   "metadata": {},
   "source": [
    "## Sampling from the generator\n",
    "\n",
    "We can also get completely new images from the generator by using the checkpoint we saved after training. We just need to pass in a new latent vector $z$ and we'll get new samples!"
   ]
  },
  {
   "cell_type": "code",
   "execution_count": null,
   "metadata": {},
   "outputs": [],
   "source": [
    "saver = tf.train.Saver(var_list=g_vars)\n",
    "with tf.Session() as sess:\n",
    "    saver.restore(sess, tf.train.latest_checkpoint('checkpoints'))\n",
    "    sample_z = np.random.uniform(-1, 1, size=(16, z_size))\n",
    "    gen_samples = sess.run(\n",
    "                   generator(input_z, input_size, n_units=g_hidden_size, reuse=True, alpha=alpha),\n",
    "                   feed_dict={input_z: sample_z})\n",
    "view_samples(0, [gen_samples])"
   ]
  }
 ],
 "metadata": {
  "kernelspec": {
   "display_name": "Python 3",
   "language": "python",
   "name": "python3"
  },
  "language_info": {
   "codemirror_mode": {
    "name": "ipython",
    "version": 3
   },
   "file_extension": ".py",
   "mimetype": "text/x-python",
   "name": "python",
   "nbconvert_exporter": "python",
   "pygments_lexer": "ipython3",
   "version": "3.5.2"
  }
 },
 "nbformat": 4,
 "nbformat_minor": 2
}

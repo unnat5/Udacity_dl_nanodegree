{
 "cells": [
  {
   "cell_type": "code",
   "execution_count": null,
   "metadata": {},
   "outputs": [],
   "source": [
    "from keras.datasets import mnist\n",
    "(X_train,y_train),(X_test,y_test) = mnist.load_data()"
   ]
  },
  {
   "cell_type": "code",
   "execution_count": null,
   "metadata": {},
   "outputs": [],
   "source": [
    "#Playing with shape\n",
    "#x_temp=X_train\n",
    "#x_temp.reshape(-1,60000).shape\n",
    "x_temp = None"
   ]
  },
  {
   "cell_type": "code",
   "execution_count": null,
   "metadata": {},
   "outputs": [],
   "source": [
    "import matplotlib.pyplot as plt\n",
    "%matplotlib inline\n",
    "import matplotlib.cm as cm\n",
    "import numpy as np"
   ]
  },
  {
   "cell_type": "code",
   "execution_count": null,
   "metadata": {},
   "outputs": [],
   "source": [
    "for i in range(0,6):\n",
    "    plt.subplot(2,3,i+1)\n",
    "    plt.imshow(X_train[i],cmap=\"gray\")\n",
    "    plt.title(str(y_train[i]))\n",
    "    plt.axis(\"off\")\n",
    "    plt.xticks([])\n",
    "    plt.yticks([])\n",
    "    plt.tight_layout()\n",
    "plt.show()"
   ]
  },
  {
   "cell_type": "code",
   "execution_count": null,
   "metadata": {},
   "outputs": [],
   "source": [
    "fig = plt.figure(figsize=(20,20))\n",
    "for i in range(6):\n",
    "    ax = fig.add_subplot(1,6,i+1,xticks=[],yticks=[])\n",
    "    ax.imshow(X_train[i],cmap=\"gray\")\n",
    "    ax.set_title(str(y_train[i]))"
   ]
  },
  {
   "cell_type": "code",
   "execution_count": null,
   "metadata": {},
   "outputs": [],
   "source": [
    "#rescale [0,255] -> [0,1]\n",
    "X_train = X_train.astype(\"float32\")/255\n",
    "X_test = X_test.astype(\"float32\")/255"
   ]
  },
  {
   "cell_type": "code",
   "execution_count": null,
   "metadata": {},
   "outputs": [],
   "source": [
    "#OnehotLabel\n",
    "import pandas as pd\n",
    "y_train=np.array(pd.get_dummies(y_train))"
   ]
  },
  {
   "cell_type": "code",
   "execution_count": null,
   "metadata": {},
   "outputs": [],
   "source": [
    "##Reshaping X_train\n",
    "X_train_matrix = X_train.reshape(60000,-1)\n",
    "X_train_matrix.shape"
   ]
  },
  {
   "cell_type": "code",
   "execution_count": null,
   "metadata": {},
   "outputs": [],
   "source": [
    "from keras.models import Sequential\n",
    "from keras.layers.core import Dense,Activation\n",
    "model = Sequential()\n",
    "model.add(Dense(32,input_dim=X_train_matrix.shape[1]))\n",
    "model.add(Activation(\"relu\"))\n",
    "model.add(Dense(10))\n",
    "model.add(Activation(\"softmax\"))\n",
    "model.compile(loss=\"categorical_crossentropy\",optimizer=\"adam\",metrics=[\"accuracy\"])\n",
    "model.summary()"
   ]
  },
  {
   "cell_type": "code",
   "execution_count": null,
   "metadata": {},
   "outputs": [],
   "source": [
    "model.fit(X_train_matrix,y_train,epochs=200,batch_size=124,verbose=1)\n",
    "score = model.evaluate(X_train_matrix,y_train)"
   ]
  },
  {
   "cell_type": "code",
   "execution_count": null,
   "metadata": {},
   "outputs": [],
   "source": [
    "X_test_flatten = X_test.reshape(X_test.shape[0],-1)\n",
    "y_test_one_hot = np.array(pd.get_dummies(y_test))"
   ]
  },
  {
   "cell_type": "code",
   "execution_count": null,
   "metadata": {},
   "outputs": [],
   "source": [
    "score_test = model.evaluate(X_test_flatten,y_test_one_hot)\n",
    "score_test[1]"
   ]
  },
  {
   "cell_type": "code",
   "execution_count": null,
   "metadata": {},
   "outputs": [],
   "source": [
    "#Model in Lecture\n",
    "from keras.layers import Dropout\n",
    "model1 = Sequential()\n",
    "model1.add(Dense(512,input_dim=X_train_matrix.shape[1]))\n",
    "model1.add(Dropout(0.5))\n",
    "model1.add(Dense(512))\n",
    "model1.add(Dropout(0.7))\n",
    "model1.add(Dense(10,activation=\"softmax\"))\n",
    "model1.summary()"
   ]
  },
  {
   "cell_type": "code",
   "execution_count": null,
   "metadata": {},
   "outputs": [],
   "source": [
    "model1.compile(loss=\"categorical_crossentropy\",optimizer=\"rmsprop\",metrics=[\"accuracy\"])\n",
    "score_1 = model1.evaluate(X_test_flatten,y_test_one_hot)\n",
    "100*score_1[1]"
   ]
  },
  {
   "cell_type": "code",
   "execution_count": null,
   "metadata": {},
   "outputs": [],
   "source": [
    "from keras.callbacks import ModelCheckpoint\n",
    "checkpointer = ModelCheckpoint(filepath=\"./best_weight_mnist.hdf5\",verbose=1,\n",
    "                              save_best_only=True)\n",
    "hist = model1.fit(X_train_matrix,y_train,batch_size=128,epochs=6,validation_split=0.2,\n",
    "                 callbacks=[checkpointer],verbose=1,shuffle=True)"
   ]
  },
  {
   "cell_type": "code",
   "execution_count": null,
   "metadata": {},
   "outputs": [],
   "source": [
    "score_1 = model1.evaluate(X_test_flatten,y_test_one_hot)\n",
    "100*score_1[1]"
   ]
  },
  {
   "cell_type": "markdown",
   "metadata": {},
   "source": [
    "# Convolution Neural Network"
   ]
  },
  {
   "cell_type": "code",
   "execution_count": null,
   "metadata": {},
   "outputs": [],
   "source": [
    "##OK WITH Lossing DATA then PADDING = \"VALID\"\n",
    "# IF NOT OK WITH LOSSING THE DATA THEN PADDING = \"SAME\"\n",
    "#Depends on the stride of our filter\n",
    "\n"
   ]
  },
  {
   "cell_type": "code",
   "execution_count": null,
   "metadata": {},
   "outputs": [],
   "source": [
    "from keras.layers import Conv2D\n",
    "Conv2D(filters,kernel_size,strides,padding,activation=\"relu\",input_shape)\n",
    "#filters - the number of filter\n",
    "#Kernel_size - number specifying both height and width of (square)\n",
    "#convolution window.\n",
    "#activation-typically relu.if not specify anything then no activation function\n",
    "#strongly encouraged to specify relu in activation \n",
    "#strides-the stride of convolution , if not specified then default is 1.\n",
    "#padding - one of \"valid\" or \"same\" if nothing is not specified then by default is set to \"valid\"\n",
    "#NOTE : it is possible to reperesent both kernel_size and strides as either a number or a tuple\n",
    "#When using your convolution layer as the first layer (appearing after the input layer)in a model,we must provide a input shape\n",
    "#And donot specify a input shape if its not the first layer."
   ]
  },
  {
   "cell_type": "markdown",
   "metadata": {},
   "source": [
    "# Example #1"
   ]
  },
  {
   "cell_type": "code",
   "execution_count": null,
   "metadata": {},
   "outputs": [],
   "source": [
    "#Say I'm constructing a CNN and my input layer accepts a grayscale images that are \n",
    "#200by200 pixels(corresponding to a 3D array with height 200, width 200 depth 1).Then\n",
    "#say I'd like the next layer to be a convolution layer with 16 filters,each with width and \n",
    "#height of 3. When performing the convoultion, I'd like the filter to jump two pixels\n",
    "#at a time. I also don't want the filter to extend outside of the image bondaries \n",
    "#in other words,I don't want to pad the images with zeros. Then, to construct this convolution \n",
    "#layer, I would use the following line of command\n",
    "\n",
    "\n",
    "\n",
    "Conv2D(filters=16,kernel_size=2,strides=2,activation=\"relu\",input_shape=(200,200,1))\n"
   ]
  },
  {
   "cell_type": "markdown",
   "metadata": {},
   "source": [
    "# Example #2"
   ]
  },
  {
   "cell_type": "code",
   "execution_count": null,
   "metadata": {},
   "outputs": [],
   "source": [
    "# Say I'd like the next layer in my CNN to be a convolution layer that takes \n",
    "#the layer constructed in Example 1 as input. Say I'd like my new layer to have 32 \n",
    "#filters,each with a height and width of 3.When performing convolution, I'd like the filter \n",
    "#to jump 1 pixels at a time. I want the convolution layer to see all regions of previous layer, and \n",
    "#so I don't mind if the filter hangs over the edge of previous layer when its performing\n",
    "#the convolution. Then, to construct this convolution layer I would use following\n",
    "#line of code\n",
    "Conv2D(filters=32,kernel_size=3,padding=\"same\",activation=\"relu\")"
   ]
  },
  {
   "cell_type": "markdown",
   "metadata": {},
   "source": [
    "# Example #3"
   ]
  },
  {
   "cell_type": "code",
   "execution_count": null,
   "metadata": {},
   "outputs": [],
   "source": [
    "#In this case, there are 64 filters and the size of filter is (2x2), and the \n",
    "#layer has a Relu activation function.The other arguments in the layer use the\n",
    "#default values, so this convolution uses a stride of 1 and the padding is set to\n",
    "#\"valid\"(so no padding)\n",
    "Conv2D(64,(2,2),activation=\"relu\")"
   ]
  },
  {
   "cell_type": "code",
   "execution_count": null,
   "metadata": {},
   "outputs": [],
   "source": [
    "from keras.models import Sequential\n",
    "from keras.layers import Conv2D\n",
    "model = Sequential()\n",
    "model.add(Conv2D(filters=16,kernel_size=2,strides=2,padding=\"valid\",activation=\"relu\",\n",
    "                input_shape = (200,200,1)))\n",
    "model.summary()"
   ]
  },
  {
   "cell_type": "code",
   "execution_count": null,
   "metadata": {},
   "outputs": [],
   "source": [
    "## Take note how the number of parameter in the convolution layer changes\n",
    "## Params # 80 \n",
    "## also notice the shape of the convolution layer changes . This corresponds\n",
    "# to value under Output shape in the printed output.\n",
    "# None corresponds to the batch size, and the convolution layer has. a height of 100,\n",
    "# width of 100 and depth of 16\n"
   ]
  },
  {
   "cell_type": "markdown",
   "metadata": {},
   "source": [
    "# Formula: Number of Parameter in a convolution Layer"
   ]
  },
  {
   "cell_type": "markdown",
   "metadata": {},
   "source": [
    "Number of parameter in a covolution layer depends on the supplied values of **filters**, **kernel_size** and **input_shape**.\n",
    "K - the number of filter in a convolution layer\n",
    "F -  the height and width of convolution filters\n",
    "D_in - the depth of previous layer\n",
    "Notice that K = filters and F=kernel_size . likewise D_in the last value in the input_shape tuple.\n",
    "Since there are (**F x F x D_in**) weights per filter, and the convolution layer is composed of K filters, the total number of weights in convolution layer is equal to **K x F x F x D_in** and there is a bias term per filter thus the number of parameters in convolution layer is give by **(K x F x F x D_in + K)**\n",
    "\n"
   ]
  },
  {
   "cell_type": "code",
   "execution_count": null,
   "metadata": {},
   "outputs": [],
   "source": [
    "2*2*16*1 + 16\n",
    "## Above example number of parameters"
   ]
  },
  {
   "cell_type": "markdown",
   "metadata": {},
   "source": [
    "# Formula: Shape of a Convolution Layer"
   ]
  },
  {
   "cell_type": "markdown",
   "metadata": {},
   "source": [
    "The shape of a convoution layer depends on the supplied values of **kernel_size, input_shape, padding** and **stride**.\n",
    "* K - the number of filter in the convolution layer \n",
    "* F - the height and width of convolution filters\n",
    "* S - the stride of convolution filters\n",
    "* H_in - the height of the previous layer\n",
    "* W_in - the width of the previous layer\n",
    "Notice that K = filters , F = kernel_size and S = stride and H_in and W_in is equal to first and second value of input_shape respectively.\n",
    "* The depth of convolution layer will be always be equal to **K**(no of filter)\n",
    "IF **padding = \"same\"**, then spatial dimension of the convolution layer are the following\n",
    "* height = ceil(float(H_in)/float(S))\n",
    "* width = ceil(float(W_in)/float(S))\n",
    "If **padding = \"valid\"**, then spatial dimension of the convolution layer are the following:\n",
    "* height = ceil(float(H_in - F +1)/float(S))\n",
    "* width = ceil(float(W_in - F +1)/float(S))\n",
    "\n",
    "\n"
   ]
  },
  {
   "cell_type": "markdown",
   "metadata": {},
   "source": [
    "# Quiz"
   ]
  },
  {
   "cell_type": "code",
   "execution_count": null,
   "metadata": {},
   "outputs": [],
   "source": [
    "from keras.models import Sequential\n",
    "from keras.layers import Conv2D\n",
    "model = Sequential()\n",
    "model.add(Conv2D(filters=32,kernel_size=3,strides=2,padding=\"same\",\n",
    "                activation = \"relu\",input_shape=(128,128,3)))\n",
    "model.summary()\n",
    "#Depth of convolution layer is equal to number of filter"
   ]
  },
  {
   "cell_type": "markdown",
   "metadata": {},
   "source": [
    "# Polling of layers!"
   ]
  },
  {
   "cell_type": "markdown",
   "metadata": {},
   "source": [
    "# Max Pooling layer"
   ]
  },
  {
   "cell_type": "code",
   "execution_count": null,
   "metadata": {},
   "outputs": [],
   "source": [
    "# So if want to find a complex pattern in our data then we will have many filters \n",
    "#and dimentionalty we will increase thus it will overfit our training data\n",
    "#THAT is the reason we introduce polling layer.\n",
    "#first we will discuss about max polling layer \n",
    "#Max Pooling Layer\n",
    "#Window Size: 2*2\n",
    "#Strides 2\n",
    "# So it reduces the dimension of convolution layer (Half of original size)\n",
    "\n"
   ]
  },
  {
   "cell_type": "markdown",
   "metadata": {},
   "source": [
    "# Global average Pooling Layer!"
   ]
  },
  {
   "cell_type": "code",
   "execution_count": null,
   "metadata": {},
   "outputs": [],
   "source": [
    "# A global average pooling layer takes a 3D array and turns it into a vector.\n"
   ]
  },
  {
   "cell_type": "markdown",
   "metadata": {},
   "source": [
    "## Max Pooling Layers in Keras"
   ]
  },
  {
   "cell_type": "code",
   "execution_count": null,
   "metadata": {},
   "outputs": [],
   "source": [
    "from keras.layers import MaxPooling2D\n",
    "MaxPooling2D(pool_size=2,strides=2,padding=\"valid\")"
   ]
  },
  {
   "cell_type": "markdown",
   "metadata": {},
   "source": [
    "## Arguments\n",
    "* pool_size - Number specifying the height and width of the pooling window\n",
    "* strides - The vertical and horizontal stride. IF don't specify anything,strides will default to pool_size\n",
    "* padding - One of the \"valid\" or \"same\". If don't specify anything padding is set to \"valid\"\n",
    "Input could be number or tuple"
   ]
  },
  {
   "cell_type": "markdown",
   "metadata": {},
   "source": [
    "## Example \n",
    "Say I'm constructing a CNN, and I'd like to reduce the dimentionality of a convolution layer by following it with a max pooling layer.Say the convolution layer has size **(100,100,15)** and I'd like the max pooling layer to have a size **(50,50,15)**. I can do this by using 2 x 2 window in my max pooling layer, with a stride of 2,which could be constructed in the following line of code."
   ]
  },
  {
   "cell_type": "code",
   "execution_count": null,
   "metadata": {},
   "outputs": [],
   "source": [
    "MaxPooling2D(pool_size=2,strides=2)\n",
    "# IF you'd like to use a stride of 1, but still keep the size of window at \n",
    "#2 x 2 then we could use\n",
    "MaxPooling2D(pool_size=2,strides=1)"
   ]
  },
  {
   "cell_type": "markdown",
   "metadata": {},
   "source": [
    "## Checking the Dimentionality of Max Pooling Layers\n"
   ]
  },
  {
   "cell_type": "code",
   "execution_count": null,
   "metadata": {},
   "outputs": [],
   "source": [
    "from keras.layers import MaxPooling2D\n",
    "from keras.models import Sequential\n",
    "model = Sequential()\n",
    "model.add(MaxPooling2D(pool_size=2,strides=2,input_shape=(100,100,15)))\n",
    "model.summary()"
   ]
  },
  {
   "cell_type": "code",
   "execution_count": null,
   "metadata": {},
   "outputs": [],
   "source": [
    "from keras.models import Sequential\n",
    "from keras.layers import Conv2D, MaxPooling2D, Flatten, Dense\n",
    "model = Sequential()\n",
    "model.add(Conv2D(filters=16,kernel_size=2,padding=\"same\",activation=\"relu\",\n",
    "                input_shape=(32,32,3)))\n",
    "model.add(MaxPooling2D(pool_size=2))\n",
    "model.add(Conv2D(filters=32,kernel_size=2,padding=\"same\",activation=\"relu\",))\n",
    "model.add(MaxPooling2D(pool_size=2))\n",
    "model.add(Conv2D(filters=64,kernel_size=2,padding=\"same\",activation=\"relu\"))\n",
    "model.add(MaxPooling2D(pool_size=2))\n",
    "model.add(Flatten())\n",
    "model.add(Dense(500,activation=\"relu\"))\n",
    "model.add(Dense(10,activation=\"softmax\"))\n",
    "model.summary()"
   ]
  },
  {
   "cell_type": "markdown",
   "metadata": {},
   "source": [
    "## Things to Remember\n",
    "* Always add a ReLU activation to Conv2D layer in your CNN. With the exception of the final layer in the network, Dense layers should also have a ReLU activation function\n",
    "* When constructing a network for classification, the final layer in the network should be a dense layer with a Softmax activation function. The number of nodes in the final layer should be equal the total number of classes in the dataset.\n"
   ]
  },
  {
   "cell_type": "markdown",
   "metadata": {},
   "source": [
    "# CIFAR-10 --CNNs"
   ]
  },
  {
   "cell_type": "code",
   "execution_count": 1,
   "metadata": {},
   "outputs": [
    {
     "name": "stderr",
     "output_type": "stream",
     "text": [
      "Using TensorFlow backend.\n"
     ]
    }
   ],
   "source": [
    "import keras \n",
    "from keras.datasets import cifar10\n",
    "\n",
    "# LOAD THE PRE -SHUFFLED TRAIN AND TEST DATA\n",
    "(x_train,y_train),(x_test,y_test) = cifar10.load_data()"
   ]
  },
  {
   "cell_type": "code",
   "execution_count": null,
   "metadata": {},
   "outputs": [],
   "source": [
    "import numpy as np \n",
    "import matplotlib.pyplot as plt\n",
    "%matplotlib inline \n",
    "fig = plt.figure(figsize=(20,5))\n",
    "for i in range(36):\n",
    "    ax = fig.add_subplot(3,12,i+1,xticks=[],yticks=[])\n",
    "    ax.imshow(np.squeeze(x_train[i])) "
   ]
  },
  {
   "cell_type": "code",
   "execution_count": 2,
   "metadata": {},
   "outputs": [],
   "source": [
    "#Normalizing the data\n",
    "x_train = x_train.astype(\"float32\")/255\n",
    "x_test=x_test.astype(\"float32\")/255"
   ]
  },
  {
   "cell_type": "code",
   "execution_count": 5,
   "metadata": {},
   "outputs": [],
   "source": [
    "from keras.utils import np_utils\n",
    "import numpy as np\n",
    "import pandas as pd\n",
    "#one hot encoding in keras\n",
    "num_classes = len(np.unique(y_train))\n",
    "y_train = keras.utils.to_categorical(y_train,num_classes)\n",
    "y_test = keras.utils.to_categorical(y_test,10)"
   ]
  },
  {
   "cell_type": "code",
   "execution_count": 6,
   "metadata": {},
   "outputs": [],
   "source": [
    "#break data into training and validation set\n",
    "(x_train,x_valid)=x_train[5000:],x_train[:5000]\n",
    "(y_train,y_valid)=y_train[5000:],y_train[:5000]"
   ]
  },
  {
   "cell_type": "code",
   "execution_count": null,
   "metadata": {},
   "outputs": [],
   "source": [
    "#print(x_train.shape)\n",
    "#print(y_train.shape)"
   ]
  },
  {
   "cell_type": "code",
   "execution_count": null,
   "metadata": {},
   "outputs": [],
   "source": [
    "#Infereing\n",
    "print(x_train.shape)\n",
    "print(y_valid.shape)"
   ]
  },
  {
   "cell_type": "code",
   "execution_count": 7,
   "metadata": {},
   "outputs": [
    {
     "name": "stdout",
     "output_type": "stream",
     "text": [
      "45000 training samples\n",
      "10000 testing samples\n",
      "5000 validating samples\n"
     ]
    }
   ],
   "source": [
    "#print number of training, validation ,and test images\n",
    "print(x_train.shape[0],\"training samples\")\n",
    "print(x_test.shape[0],\"testing samples\")\n",
    "print(x_valid.shape[0],\"validating samples\")"
   ]
  },
  {
   "cell_type": "markdown",
   "metadata": {},
   "source": [
    "# First Model-- Regular Vanilla Neural Network!"
   ]
  },
  {
   "cell_type": "code",
   "execution_count": null,
   "metadata": {},
   "outputs": [],
   "source": [
    "#falttening of image \n",
    "x_train_vanilla = x_train.reshape(x_train.shape[0],-1)\n",
    "x_valid_vanilla = x_valid.reshape(x_valid.shape[0],-1)\n",
    "x_test_vanilla = x_test.reshape(x_test.shape[0],-1)\n",
    "print(x_train_vanilla.shape)"
   ]
  },
  {
   "cell_type": "code",
   "execution_count": null,
   "metadata": {},
   "outputs": [],
   "source": [
    "#Vanilla Model\n",
    "from keras.models import Sequential\n",
    "from keras.layers import Dense,Dropout\n",
    "model = Sequential()\n",
    "model.add(Dense(1000,activation=\"relu\",input_dim=x_train_vanilla.shape[1]))\n",
    "model.add(Dropout(0.2))\n",
    "model.add(Dense(512,activation=\"relu\"))\n",
    "model.add(Dropout(0.2))\n",
    "model.add(Dense(num_classes,activation=\"softmax\"))\n",
    "model.summary()"
   ]
  },
  {
   "cell_type": "code",
   "execution_count": null,
   "metadata": {},
   "outputs": [],
   "source": [
    "#compile model\n",
    "model.compile(loss=\"categorical_crossentropy\",optimizer=\"rmsprop\",\n",
    "             metrics=[\"accuracy\"])"
   ]
  },
  {
   "cell_type": "code",
   "execution_count": null,
   "metadata": {},
   "outputs": [],
   "source": [
    "#Training the model!!\n",
    "from keras.callbacks import ModelCheckpoint\n",
    "#train model\n",
    "checkpointer = ModelCheckpoint(filepath=\"MLP.weights.best.hdf5\",verbose=1,\n",
    "                              save_best_only=True)\n",
    "hist = model.fit(x_train_vanilla,y_train,batch_size=32,epochs=20,\n",
    "                validation_data=(x_valid_vanilla,y_valid),callbacks=[checkpointer],\n",
    "                verbose=2,shuffle=True)"
   ]
  },
  {
   "cell_type": "code",
   "execution_count": null,
   "metadata": {},
   "outputs": [],
   "source": [
    "#loading the weights that yeilds the best calidation accuracy\n",
    "model.load_weights(\"MLP.weights.best.hdf5\")"
   ]
  },
  {
   "cell_type": "code",
   "execution_count": null,
   "metadata": {},
   "outputs": [],
   "source": [
    "##Checking the accuracy\n",
    "accuracy=model.evaluate(x_test_vanilla,y_test)\n",
    "print(100*accuracy[1],\"Testing accuracy of the data in vanilla model\")"
   ]
  },
  {
   "cell_type": "markdown",
   "metadata": {},
   "source": [
    "# Second Model --CNNs"
   ]
  },
  {
   "cell_type": "code",
   "execution_count": null,
   "metadata": {},
   "outputs": [],
   "source": [
    "from keras.models import Sequential\n",
    "from keras.layers import Conv2D,MaxPooling2D,Flatten,Dense,Dropout\n",
    "model = Sequential()\n",
    "model.add(Conv2D(filters=16,activation=\"relu\",padding=\"same\",kernel_size=2,\n",
    "                input_shape=(x_train.shape[1],x_train.shape[2],x_train.shape[3])))\n",
    "model.add(MaxPooling2D(pool_size=(2,2)))\n",
    "model.add(Conv2D(filters=32,activation=\"relu\",padding=\"same\",kernel_size=2))\n",
    "model.add(MaxPooling2D(pool_size=2))\n",
    "model.add(Conv2D(filters=64,activation=\"relu\",padding=\"same\",kernel_size=2))\n",
    "model.add(MaxPooling2D(pool_size=2))\n",
    "model.add(Flatten())\n",
    "model.add(Dense(1024,activation=\"relu\"))\n",
    "model.add(Dropout(0.3))\n",
    "model.add(Dense(510,activation=\"relu\"))\n",
    "model.add(Dropout(0.5))\n",
    "model.add(Dense(num_classes,activation=\"softmax\"))\n",
    "model.summary()"
   ]
  },
  {
   "cell_type": "code",
   "execution_count": null,
   "metadata": {},
   "outputs": [],
   "source": [
    "#Compling the model\n",
    "from keras import optimizers\n",
    "adam = optimizers.Adam()\n",
    "model.compile(loss=\"categorical_crossentropy\",optimizer=adam,\n",
    "             metrics=[\"accuracy\"])"
   ]
  },
  {
   "cell_type": "code",
   "execution_count": null,
   "metadata": {},
   "outputs": [],
   "source": [
    "from keras.callbacks import ModelCheckpoint\n",
    "checkpointer_cnn = ModelCheckpoint(filepath=\"CNN.best.weights.hdf5\",\n",
    "                                  verbose=1,save_best_only=True)\n",
    "model.fit(x_train,y_train,verbose=2,batch_size=124,epochs=10,\n",
    "          callbacks=[checkpointer_cnn],validation_data=(x_valid,y_valid),\n",
    "         shuffle=True)"
   ]
  },
  {
   "cell_type": "code",
   "execution_count": null,
   "metadata": {},
   "outputs": [],
   "source": [
    "model.load_weights(\"CNN.best.weights.hdf5\")\n",
    "score = model.evaluate(x_test,y_test)\n",
    "print(100*score[1])"
   ]
  },
  {
   "cell_type": "code",
   "execution_count": null,
   "metadata": {},
   "outputs": [],
   "source": [
    "print(100*score[1])"
   ]
  },
  {
   "cell_type": "markdown",
   "metadata": {},
   "source": [
    "# Data Agumentation"
   ]
  },
  {
   "cell_type": "code",
   "execution_count": null,
   "metadata": {},
   "outputs": [],
   "source": [
    "from keras.callbacks import ModelCheckpoint\n",
    "from keras.preprocessing.image import ImageDataGenerator\n",
    "checkpoint = ModelCheckpoint(filepath=\"CNN.aug_best.weights.hdf5\",save_best_only=True,verbose=2)\n",
    "datagen = ImageDataGenerator(featurewise_center=True,featurewise_std_normalization=True,\n",
    "                            rotation_range=20,width_shift_range=0.2,height_shift_range=0.2,\n",
    "                            horizontal_flip=True)\n",
    "datagen.fit(x_train)\n",
    "hist = model.fit_generator(datagen.flow(x_train,y_train,batch_size=124),steps_per_epoch=len(x_train)/124,epochs=100,\n",
    "                          callbacks=[checkpoint],validation_data = (x_valid,y_valid),verbose=2)"
   ]
  },
  {
   "cell_type": "code",
   "execution_count": null,
   "metadata": {},
   "outputs": [],
   "source": [
    "model.load_weights(\"CNN.aug_best.weights.hdf5\")\n",
    "score = model.evaluate(x_test,y_test)\n",
    "print(100*score[1])"
   ]
  },
  {
   "cell_type": "code",
   "execution_count": null,
   "metadata": {},
   "outputs": [],
   "source": [
    "print(100*score[1])\n"
   ]
  },
  {
   "cell_type": "markdown",
   "metadata": {},
   "source": [
    "## Create and Config Agumented Image Generator"
   ]
  },
  {
   "cell_type": "code",
   "execution_count": 8,
   "metadata": {},
   "outputs": [],
   "source": [
    "from keras.preprocessing.image import ImageDataGenerator\n",
    "datagen_train = ImageDataGenerator(width_shift_range=0.1,\n",
    "                                  height_shift_range=0.1,\n",
    "                                  horizontal_flip = True)\n",
    "datagen_train.fit(x_train)"
   ]
  },
  {
   "cell_type": "code",
   "execution_count": 9,
   "metadata": {},
   "outputs": [
    {
     "data": {
      "image/png": "[encoded data removed]",
      "text/plain": [
       "<matplotlib.figure.Figure at 0x7f56fcfc7a20>"
      ]
     },
     "metadata": {},
     "output_type": "display_data"
    },
    {
     "data": {
      "image/png": "[encoded data removed]",
      "text/plain": [
       "<matplotlib.figure.Figure at 0x7f56efdd0320>"
      ]
     },
     "metadata": {},
     "output_type": "display_data"
    }
   ],
   "source": [
    "import matplotlib.pyplot as plt\n",
    "#take a subset of training data\n",
    "x_train_subset = x_train[:12]\n",
    "\n",
    "#Visualize subset of taining data\n",
    "fig = plt.figure(figsize=(20,2))\n",
    "for i in range(0,len(x_train_subset)):\n",
    "    ax = fig.add_subplot(1,12,i+1,xticks=[],yticks=[])\n",
    "    ax.imshow(x_train_subset[i])\n",
    "fig.suptitle(\"Subset of Original Training Images\",fontsize=20)\n",
    "plt.show()\n",
    "\n",
    "# Visualize agumented images\n",
    "fig = plt.figure(figsize=(20,2))\n",
    "for x_batch in datagen_train.flow(x_train_subset,batch_size=12):\n",
    "    for i in range(0,12):\n",
    "        ax = fig.add_subplot(1,12,i+1,xticks=[],yticks=[])\n",
    "        ax.imshow(x_batch[i])\n",
    "    fig.suptitle(\"Agumented Images\",fontsize=20)\n",
    "    plt.show()\n",
    "    break;"
   ]
  },
  {
   "cell_type": "markdown",
   "metadata": {},
   "source": [
    "# Define the Model Architecture"
   ]
  },
  {
   "cell_type": "code",
   "execution_count": 10,
   "metadata": {},
   "outputs": [
    {
     "name": "stdout",
     "output_type": "stream",
     "text": [
      "_________________________________________________________________\n",
      "Layer (type)                 Output Shape              Param #   \n",
      "=================================================================\n",
      "conv2d_1 (Conv2D)            (None, 32, 32, 16)        208       \n",
      "_________________________________________________________________\n",
      "max_pooling2d_1 (MaxPooling2 (None, 16, 16, 16)        0         \n",
      "_________________________________________________________________\n",
      "conv2d_2 (Conv2D)            (None, 16, 16, 32)        2080      \n",
      "_________________________________________________________________\n",
      "max_pooling2d_2 (MaxPooling2 (None, 8, 8, 32)          0         \n",
      "_________________________________________________________________\n",
      "conv2d_3 (Conv2D)            (None, 8, 8, 64)          8256      \n",
      "_________________________________________________________________\n",
      "max_pooling2d_3 (MaxPooling2 (None, 4, 4, 64)          0         \n",
      "_________________________________________________________________\n",
      "flatten_1 (Flatten)          (None, 1024)              0         \n",
      "_________________________________________________________________\n",
      "dense_1 (Dense)              (None, 500)               512500    \n",
      "_________________________________________________________________\n",
      "dropout_1 (Dropout)          (None, 500)               0         \n",
      "_________________________________________________________________\n",
      "dense_2 (Dense)              (None, 10)                5010      \n",
      "=================================================================\n",
      "Total params: 528,054.0\n",
      "Trainable params: 528,054.0\n",
      "Non-trainable params: 0.0\n",
      "_________________________________________________________________\n"
     ]
    }
   ],
   "source": [
    "from keras.models import Sequential\n",
    "from keras.layers import Conv2D,MaxPooling2D,Flatten,Dense,Dropout\n",
    "model = Sequential()\n",
    "model.add(Conv2D(filters=16,activation=\"relu\",padding=\"same\",kernel_size=2,\n",
    "                input_shape=(x_train.shape[1],x_train.shape[2],x_train.shape[3])))\n",
    "model.add(MaxPooling2D(pool_size=(2,2)))\n",
    "model.add(Conv2D(filters=32,activation=\"relu\",padding=\"same\",kernel_size=2))\n",
    "model.add(MaxPooling2D(pool_size=2))\n",
    "model.add(Conv2D(filters=64,activation=\"relu\",padding=\"same\",kernel_size=2))\n",
    "model.add(MaxPooling2D(pool_size=2))\n",
    "model.add(Flatten())\n",
    "model.add(Dense(500,activation=\"relu\"))\n",
    "model.add(Dropout(0.3))\n",
    "model.add(Dense(num_classes,activation=\"softmax\"))\n",
    "model.summary()"
   ]
  },
  {
   "cell_type": "code",
   "execution_count": 11,
   "metadata": {},
   "outputs": [],
   "source": [
    "model.compile(loss=\"categorical_crossentropy\",optimizer=\"adam\",\n",
    "             metrics=[\"accuracy\"])"
   ]
  },
  {
   "cell_type": "code",
   "execution_count": 12,
   "metadata": {},
   "outputs": [
    {
     "name": "stdout",
     "output_type": "stream",
     "text": [
      "Epoch 1/100\n",
      "Epoch 00000: val_loss improved from inf to 1.26420, saving model to CNN.aug_best.weights.hdf5\n",
      "19s - loss: 1.5674 - acc: 0.4265 - val_loss: 1.2642 - val_acc: 0.5436\n",
      "Epoch 2/100\n",
      "Epoch 00001: val_loss improved from 1.26420 to 1.08886, saving model to CNN.aug_best.weights.hdf5\n",
      "16s - loss: 1.2739 - acc: 0.5422 - val_loss: 1.0889 - val_acc: 0.6190\n",
      "Epoch 3/100\n",
      "Epoch 00002: val_loss improved from 1.08886 to 1.00925, saving model to CNN.aug_best.weights.hdf5\n",
      "16s - loss: 1.1442 - acc: 0.5893 - val_loss: 1.0092 - val_acc: 0.6370\n",
      "Epoch 4/100\n",
      "Epoch 00003: val_loss improved from 1.00925 to 0.91616, saving model to CNN.aug_best.weights.hdf5\n",
      "16s - loss: 1.0672 - acc: 0.6195 - val_loss: 0.9162 - val_acc: 0.6778\n",
      "Epoch 5/100\n",
      "Epoch 00004: val_loss did not improve\n",
      "16s - loss: 1.0109 - acc: 0.6403 - val_loss: 0.9327 - val_acc: 0.6716\n",
      "Epoch 6/100\n",
      "Epoch 00005: val_loss improved from 0.91616 to 0.87721, saving model to CNN.aug_best.weights.hdf5\n",
      "16s - loss: 0.9681 - acc: 0.6565 - val_loss: 0.8772 - val_acc: 0.6982\n",
      "Epoch 7/100\n",
      "Epoch 00006: val_loss improved from 0.87721 to 0.83797, saving model to CNN.aug_best.weights.hdf5\n",
      "16s - loss: 0.9327 - acc: 0.6725 - val_loss: 0.8380 - val_acc: 0.6956\n",
      "Epoch 8/100\n",
      "Epoch 00007: val_loss improved from 0.83797 to 0.78421, saving model to CNN.aug_best.weights.hdf5\n",
      "16s - loss: 0.9064 - acc: 0.6778 - val_loss: 0.7842 - val_acc: 0.7262\n",
      "Epoch 9/100\n",
      "Epoch 00008: val_loss did not improve\n",
      "16s - loss: 0.8758 - acc: 0.6895 - val_loss: 0.7899 - val_acc: 0.7254\n",
      "Epoch 10/100\n",
      "Epoch 00009: val_loss improved from 0.78421 to 0.74087, saving model to CNN.aug_best.weights.hdf5\n",
      "16s - loss: 0.8551 - acc: 0.6982 - val_loss: 0.7409 - val_acc: 0.7400\n",
      "Epoch 11/100\n",
      "Epoch 00010: val_loss did not improve\n",
      "16s - loss: 0.8381 - acc: 0.7031 - val_loss: 0.7488 - val_acc: 0.7414\n",
      "Epoch 12/100\n",
      "Epoch 00011: val_loss improved from 0.74087 to 0.70929, saving model to CNN.aug_best.weights.hdf5\n",
      "16s - loss: 0.8125 - acc: 0.7125 - val_loss: 0.7093 - val_acc: 0.7540\n",
      "Epoch 13/100\n",
      "Epoch 00012: val_loss improved from 0.70929 to 0.69847, saving model to CNN.aug_best.weights.hdf5\n",
      "16s - loss: 0.7993 - acc: 0.7183 - val_loss: 0.6985 - val_acc: 0.7578\n",
      "Epoch 14/100\n",
      "Epoch 00013: val_loss improved from 0.69847 to 0.69188, saving model to CNN.aug_best.weights.hdf5\n",
      "16s - loss: 0.7824 - acc: 0.7246 - val_loss: 0.6919 - val_acc: 0.7590\n",
      "Epoch 15/100\n",
      "Epoch 00014: val_loss did not improve\n",
      "16s - loss: 0.7706 - acc: 0.7268 - val_loss: 0.7336 - val_acc: 0.7446\n",
      "Epoch 16/100\n",
      "Epoch 00015: val_loss improved from 0.69188 to 0.67782, saving model to CNN.aug_best.weights.hdf5\n",
      "16s - loss: 0.7633 - acc: 0.7300 - val_loss: 0.6778 - val_acc: 0.7624\n",
      "Epoch 17/100\n",
      "Epoch 00016: val_loss did not improve\n",
      "16s - loss: 0.7525 - acc: 0.7376 - val_loss: 0.6868 - val_acc: 0.7662\n",
      "Epoch 18/100\n",
      "Epoch 00017: val_loss did not improve\n",
      "16s - loss: 0.7318 - acc: 0.7408 - val_loss: 0.6969 - val_acc: 0.7584\n",
      "Epoch 19/100\n",
      "Epoch 00018: val_loss improved from 0.67782 to 0.67319, saving model to CNN.aug_best.weights.hdf5\n",
      "16s - loss: 0.7223 - acc: 0.7461 - val_loss: 0.6732 - val_acc: 0.7646\n",
      "Epoch 20/100\n",
      "Epoch 00019: val_loss did not improve\n",
      "16s - loss: 0.7162 - acc: 0.7488 - val_loss: 0.6757 - val_acc: 0.7632\n",
      "Epoch 21/100\n",
      "Epoch 00020: val_loss did not improve\n",
      "16s - loss: 0.7109 - acc: 0.7482 - val_loss: 0.7312 - val_acc: 0.7472\n",
      "Epoch 22/100\n",
      "Epoch 00021: val_loss improved from 0.67319 to 0.64290, saving model to CNN.aug_best.weights.hdf5\n",
      "16s - loss: 0.7062 - acc: 0.7518 - val_loss: 0.6429 - val_acc: 0.7736\n",
      "Epoch 23/100\n",
      "Epoch 00022: val_loss did not improve\n",
      "16s - loss: 0.6888 - acc: 0.7559 - val_loss: 0.6765 - val_acc: 0.7640\n",
      "Epoch 24/100\n",
      "Epoch 00023: val_loss did not improve\n",
      "16s - loss: 0.6871 - acc: 0.7581 - val_loss: 0.6531 - val_acc: 0.7762\n",
      "Epoch 25/100\n",
      "Epoch 00024: val_loss improved from 0.64290 to 0.64120, saving model to CNN.aug_best.weights.hdf5\n",
      "16s - loss: 0.6793 - acc: 0.7613 - val_loss: 0.6412 - val_acc: 0.7776\n",
      "Epoch 26/100\n",
      "Epoch 00025: val_loss did not improve\n",
      "16s - loss: 0.6708 - acc: 0.7633 - val_loss: 0.6471 - val_acc: 0.7746\n",
      "Epoch 27/100\n",
      "Epoch 00026: val_loss improved from 0.64120 to 0.62927, saving model to CNN.aug_best.weights.hdf5\n",
      "16s - loss: 0.6646 - acc: 0.7639 - val_loss: 0.6293 - val_acc: 0.7894\n",
      "Epoch 28/100\n",
      "Epoch 00027: val_loss improved from 0.62927 to 0.61360, saving model to CNN.aug_best.weights.hdf5\n",
      "16s - loss: 0.6517 - acc: 0.7715 - val_loss: 0.6136 - val_acc: 0.7888\n",
      "Epoch 29/100\n",
      "Epoch 00028: val_loss did not improve\n",
      "16s - loss: 0.6534 - acc: 0.7690 - val_loss: 0.6163 - val_acc: 0.7860\n",
      "Epoch 30/100\n",
      "Epoch 00029: val_loss did not improve\n",
      "16s - loss: 0.6491 - acc: 0.7709 - val_loss: 0.6324 - val_acc: 0.7814\n",
      "Epoch 31/100\n",
      "Epoch 00030: val_loss did not improve\n",
      "16s - loss: 0.6442 - acc: 0.7724 - val_loss: 0.6214 - val_acc: 0.7830\n",
      "Epoch 32/100\n",
      "Epoch 00031: val_loss did not improve\n",
      "16s - loss: 0.6363 - acc: 0.7748 - val_loss: 0.6209 - val_acc: 0.7868\n",
      "Epoch 33/100\n",
      "Epoch 00032: val_loss did not improve\n",
      "16s - loss: 0.6378 - acc: 0.7746 - val_loss: 0.6263 - val_acc: 0.7876\n",
      "Epoch 34/100\n",
      "Epoch 00033: val_loss improved from 0.61360 to 0.60837, saving model to CNN.aug_best.weights.hdf5\n",
      "16s - loss: 0.6319 - acc: 0.7795 - val_loss: 0.6084 - val_acc: 0.7948\n",
      "Epoch 35/100\n",
      "Epoch 00034: val_loss did not improve\n",
      "16s - loss: 0.6243 - acc: 0.7798 - val_loss: 0.6180 - val_acc: 0.7868\n",
      "Epoch 36/100\n",
      "Epoch 00035: val_loss did not improve\n",
      "16s - loss: 0.6197 - acc: 0.7820 - val_loss: 0.6409 - val_acc: 0.7844\n",
      "Epoch 37/100\n",
      "Epoch 00036: val_loss did not improve\n",
      "16s - loss: 0.6217 - acc: 0.7797 - val_loss: 0.6194 - val_acc: 0.7886\n",
      "Epoch 38/100\n",
      "Epoch 00037: val_loss improved from 0.60837 to 0.59969, saving model to CNN.aug_best.weights.hdf5\n",
      "16s - loss: 0.6062 - acc: 0.7854 - val_loss: 0.5997 - val_acc: 0.7968\n",
      "Epoch 39/100\n",
      "Epoch 00038: val_loss did not improve\n",
      "16s - loss: 0.6076 - acc: 0.7868 - val_loss: 0.6156 - val_acc: 0.7858\n",
      "Epoch 40/100\n",
      "Epoch 00039: val_loss did not improve\n",
      "16s - loss: 0.5989 - acc: 0.7878 - val_loss: 0.6141 - val_acc: 0.7876\n",
      "Epoch 41/100\n",
      "Epoch 00040: val_loss improved from 0.59969 to 0.59507, saving model to CNN.aug_best.weights.hdf5\n",
      "16s - loss: 0.6043 - acc: 0.7849 - val_loss: 0.5951 - val_acc: 0.7994\n",
      "Epoch 42/100\n",
      "Epoch 00041: val_loss improved from 0.59507 to 0.57877, saving model to CNN.aug_best.weights.hdf5\n",
      "16s - loss: 0.5948 - acc: 0.7916 - val_loss: 0.5788 - val_acc: 0.8064\n",
      "Epoch 43/100\n",
      "Epoch 00042: val_loss did not improve\n",
      "16s - loss: 0.5879 - acc: 0.7920 - val_loss: 0.5948 - val_acc: 0.7998\n",
      "Epoch 44/100\n",
      "Epoch 00043: val_loss did not improve\n",
      "16s - loss: 0.5872 - acc: 0.7932 - val_loss: 0.5973 - val_acc: 0.7960\n",
      "Epoch 45/100\n",
      "Epoch 00044: val_loss did not improve\n",
      "16s - loss: 0.5827 - acc: 0.7938 - val_loss: 0.5991 - val_acc: 0.7992\n",
      "Epoch 46/100\n",
      "Epoch 00045: val_loss did not improve\n",
      "16s - loss: 0.5829 - acc: 0.7933 - val_loss: 0.5886 - val_acc: 0.7982\n",
      "Epoch 47/100\n",
      "Epoch 00046: val_loss did not improve\n",
      "16s - loss: 0.5809 - acc: 0.7960 - val_loss: 0.6024 - val_acc: 0.7980\n",
      "Epoch 48/100\n",
      "Epoch 00047: val_loss did not improve\n",
      "16s - loss: 0.5816 - acc: 0.7935 - val_loss: 0.5976 - val_acc: 0.7978\n",
      "Epoch 49/100\n",
      "Epoch 00048: val_loss did not improve\n",
      "16s - loss: 0.5778 - acc: 0.7970 - val_loss: 0.5972 - val_acc: 0.7998\n",
      "Epoch 50/100\n",
      "Epoch 00049: val_loss improved from 0.57877 to 0.57190, saving model to CNN.aug_best.weights.hdf5\n",
      "16s - loss: 0.5716 - acc: 0.7979 - val_loss: 0.5719 - val_acc: 0.8036\n",
      "Epoch 51/100\n",
      "Epoch 00050: val_loss did not improve\n",
      "16s - loss: 0.5678 - acc: 0.7989 - val_loss: 0.6076 - val_acc: 0.7882\n",
      "Epoch 52/100\n",
      "Epoch 00051: val_loss did not improve\n",
      "16s - loss: 0.5664 - acc: 0.8006 - val_loss: 0.5773 - val_acc: 0.7990\n",
      "Epoch 53/100\n",
      "Epoch 00052: val_loss did not improve\n",
      "16s - loss: 0.5569 - acc: 0.8018 - val_loss: 0.5901 - val_acc: 0.7964\n",
      "Epoch 54/100\n",
      "Epoch 00053: val_loss did not improve\n",
      "16s - loss: 0.5599 - acc: 0.8012 - val_loss: 0.5872 - val_acc: 0.8004\n",
      "Epoch 55/100\n",
      "Epoch 00054: val_loss did not improve\n",
      "16s - loss: 0.5587 - acc: 0.8037 - val_loss: 0.5823 - val_acc: 0.7998\n",
      "Epoch 56/100\n",
      "Epoch 00055: val_loss improved from 0.57190 to 0.56404, saving model to CNN.aug_best.weights.hdf5\n",
      "16s - loss: 0.5558 - acc: 0.8025 - val_loss: 0.5640 - val_acc: 0.8062\n",
      "Epoch 57/100\n",
      "Epoch 00056: val_loss did not improve\n",
      "16s - loss: 0.5575 - acc: 0.8016 - val_loss: 0.5808 - val_acc: 0.8058\n",
      "Epoch 58/100\n"
     ]
    },
    {
     "name": "stdout",
     "output_type": "stream",
     "text": [
      "Epoch 00057: val_loss did not improve\n",
      "16s - loss: 0.5527 - acc: 0.8065 - val_loss: 0.5805 - val_acc: 0.8058\n",
      "Epoch 59/100\n",
      "Epoch 00058: val_loss did not improve\n",
      "16s - loss: 0.5451 - acc: 0.8077 - val_loss: 0.5848 - val_acc: 0.8058\n",
      "Epoch 60/100\n",
      "Epoch 00059: val_loss did not improve\n",
      "16s - loss: 0.5462 - acc: 0.8076 - val_loss: 0.5875 - val_acc: 0.7980\n",
      "Epoch 61/100\n",
      "Epoch 00060: val_loss did not improve\n",
      "16s - loss: 0.5445 - acc: 0.8089 - val_loss: 0.5822 - val_acc: 0.8062\n",
      "Epoch 62/100\n",
      "Epoch 00061: val_loss did not improve\n",
      "16s - loss: 0.5427 - acc: 0.8077 - val_loss: 0.5866 - val_acc: 0.8046\n",
      "Epoch 63/100\n",
      "Epoch 00062: val_loss did not improve\n",
      "16s - loss: 0.5357 - acc: 0.8076 - val_loss: 0.6126 - val_acc: 0.7926\n",
      "Epoch 64/100\n",
      "Epoch 00063: val_loss did not improve\n",
      "16s - loss: 0.5406 - acc: 0.8085 - val_loss: 0.6022 - val_acc: 0.8004\n",
      "Epoch 65/100\n",
      "Epoch 00064: val_loss did not improve\n",
      "16s - loss: 0.5358 - acc: 0.8109 - val_loss: 0.6172 - val_acc: 0.7934\n",
      "Epoch 66/100\n",
      "Epoch 00065: val_loss did not improve\n",
      "16s - loss: 0.5282 - acc: 0.8138 - val_loss: 0.5782 - val_acc: 0.8004\n",
      "Epoch 67/100\n",
      "Epoch 00066: val_loss did not improve\n",
      "16s - loss: 0.5335 - acc: 0.8115 - val_loss: 0.5721 - val_acc: 0.8036\n",
      "Epoch 68/100\n",
      "Epoch 00067: val_loss did not improve\n",
      "16s - loss: 0.5281 - acc: 0.8142 - val_loss: 0.5739 - val_acc: 0.8050\n",
      "Epoch 69/100\n",
      "Epoch 00068: val_loss improved from 0.56404 to 0.56124, saving model to CNN.aug_best.weights.hdf5\n",
      "16s - loss: 0.5335 - acc: 0.8102 - val_loss: 0.5612 - val_acc: 0.8100\n",
      "Epoch 70/100\n",
      "Epoch 00069: val_loss did not improve\n",
      "16s - loss: 0.5263 - acc: 0.8121 - val_loss: 0.5857 - val_acc: 0.8100\n",
      "Epoch 71/100\n",
      "Epoch 00070: val_loss did not improve\n",
      "16s - loss: 0.5256 - acc: 0.8132 - val_loss: 0.5777 - val_acc: 0.8054\n",
      "Epoch 72/100\n",
      "Epoch 00071: val_loss improved from 0.56124 to 0.55733, saving model to CNN.aug_best.weights.hdf5\n",
      "16s - loss: 0.5273 - acc: 0.8149 - val_loss: 0.5573 - val_acc: 0.8094\n",
      "Epoch 73/100\n",
      "Epoch 00072: val_loss did not improve\n",
      "16s - loss: 0.5205 - acc: 0.8146 - val_loss: 0.5815 - val_acc: 0.8024\n",
      "Epoch 74/100\n",
      "Epoch 00073: val_loss did not improve\n",
      "16s - loss: 0.5201 - acc: 0.8166 - val_loss: 0.5942 - val_acc: 0.8032\n",
      "Epoch 75/100\n",
      "Epoch 00074: val_loss did not improve\n",
      "16s - loss: 0.5149 - acc: 0.8175 - val_loss: 0.5805 - val_acc: 0.8082\n",
      "Epoch 76/100\n",
      "Epoch 00075: val_loss did not improve\n",
      "16s - loss: 0.5168 - acc: 0.8149 - val_loss: 0.6018 - val_acc: 0.8064\n",
      "Epoch 77/100\n",
      "Epoch 00076: val_loss did not improve\n",
      "16s - loss: 0.5156 - acc: 0.8165 - val_loss: 0.5828 - val_acc: 0.8110\n",
      "Epoch 78/100\n",
      "Epoch 00077: val_loss did not improve\n",
      "16s - loss: 0.5184 - acc: 0.8172 - val_loss: 0.5617 - val_acc: 0.8110\n",
      "Epoch 79/100\n",
      "Epoch 00078: val_loss did not improve\n",
      "16s - loss: 0.5121 - acc: 0.8184 - val_loss: 0.5775 - val_acc: 0.8130\n",
      "Epoch 80/100\n",
      "Epoch 00079: val_loss did not improve\n",
      "16s - loss: 0.5129 - acc: 0.8196 - val_loss: 0.5952 - val_acc: 0.8062\n",
      "Epoch 81/100\n",
      "Epoch 00080: val_loss did not improve\n",
      "16s - loss: 0.5113 - acc: 0.8170 - val_loss: 0.5695 - val_acc: 0.8112\n",
      "Epoch 82/100\n",
      "Epoch 00081: val_loss did not improve\n",
      "16s - loss: 0.5023 - acc: 0.8216 - val_loss: 0.5923 - val_acc: 0.8024\n",
      "Epoch 83/100\n",
      "Epoch 00082: val_loss did not improve\n",
      "16s - loss: 0.5094 - acc: 0.8194 - val_loss: 0.5666 - val_acc: 0.8108\n",
      "Epoch 84/100\n",
      "Epoch 00083: val_loss improved from 0.55733 to 0.55215, saving model to CNN.aug_best.weights.hdf5\n",
      "16s - loss: 0.5035 - acc: 0.8220 - val_loss: 0.5521 - val_acc: 0.8156\n",
      "Epoch 85/100\n",
      "Epoch 00084: val_loss did not improve\n",
      "16s - loss: 0.4973 - acc: 0.8221 - val_loss: 0.6003 - val_acc: 0.8024\n",
      "Epoch 86/100\n",
      "Epoch 00085: val_loss did not improve\n",
      "16s - loss: 0.4996 - acc: 0.8207 - val_loss: 0.5797 - val_acc: 0.8062\n",
      "Epoch 87/100\n",
      "Epoch 00086: val_loss did not improve\n",
      "16s - loss: 0.5041 - acc: 0.8224 - val_loss: 0.5665 - val_acc: 0.8154\n",
      "Epoch 88/100\n",
      "Epoch 00087: val_loss did not improve\n",
      "16s - loss: 0.5002 - acc: 0.8221 - val_loss: 0.5695 - val_acc: 0.8114\n",
      "Epoch 89/100\n",
      "Epoch 00088: val_loss did not improve\n",
      "16s - loss: 0.4951 - acc: 0.8247 - val_loss: 0.5940 - val_acc: 0.8008\n",
      "Epoch 90/100\n",
      "Epoch 00089: val_loss did not improve\n",
      "16s - loss: 0.4962 - acc: 0.8241 - val_loss: 0.5568 - val_acc: 0.8100\n",
      "Epoch 91/100\n",
      "Epoch 00090: val_loss did not improve\n",
      "16s - loss: 0.4975 - acc: 0.8229 - val_loss: 0.5752 - val_acc: 0.8052\n",
      "Epoch 92/100\n",
      "Epoch 00091: val_loss did not improve\n",
      "16s - loss: 0.4940 - acc: 0.8254 - val_loss: 0.6056 - val_acc: 0.8020\n",
      "Epoch 93/100\n",
      "Epoch 00092: val_loss did not improve\n",
      "16s - loss: 0.4933 - acc: 0.8256 - val_loss: 0.5773 - val_acc: 0.8020\n",
      "Epoch 94/100\n",
      "Epoch 00093: val_loss did not improve\n",
      "16s - loss: 0.4919 - acc: 0.8273 - val_loss: 0.5621 - val_acc: 0.8080\n",
      "Epoch 95/100\n",
      "Epoch 00094: val_loss did not improve\n",
      "16s - loss: 0.4894 - acc: 0.8254 - val_loss: 0.5743 - val_acc: 0.8064\n",
      "Epoch 96/100\n",
      "Epoch 00095: val_loss did not improve\n",
      "16s - loss: 0.4912 - acc: 0.8266 - val_loss: 0.5835 - val_acc: 0.8108\n",
      "Epoch 97/100\n",
      "Epoch 00096: val_loss did not improve\n",
      "16s - loss: 0.4933 - acc: 0.8265 - val_loss: 0.5796 - val_acc: 0.8096\n",
      "Epoch 98/100\n",
      "Epoch 00097: val_loss did not improve\n",
      "16s - loss: 0.4935 - acc: 0.8247 - val_loss: 0.5644 - val_acc: 0.8144\n",
      "Epoch 99/100\n",
      "Epoch 00098: val_loss did not improve\n",
      "16s - loss: 0.4852 - acc: 0.8294 - val_loss: 0.5662 - val_acc: 0.8124\n",
      "Epoch 100/100\n",
      "Epoch 00099: val_loss did not improve\n",
      "16s - loss: 0.4842 - acc: 0.8273 - val_loss: 0.5696 - val_acc: 0.8142\n"
     ]
    },
    {
     "data": {
      "text/plain": [
       "<keras.callbacks.History at 0x7f56ef55f9e8>"
      ]
     },
     "execution_count": 12,
     "metadata": {},
     "output_type": "execute_result"
    }
   ],
   "source": [
    "from keras.callbacks import ModelCheckpoint\n",
    "batch_size=32\n",
    "epochs =100\n",
    "checkpointer=ModelCheckpoint(filepath=\"CNN.aug_best.weights.hdf5\",\n",
    "                            verbose=1,save_best_only=True)\n",
    "model.fit_generator(datagen_train.flow(x_train,y_train,batch_size=batch_size),\n",
    "                                      epochs=epochs,verbose=2,callbacks=[checkpointer],\n",
    "                                      validation_data=(x_valid,y_valid),\n",
    "                                      validation_steps=x_valid.shape[0]//batch_size,\n",
    "                                      steps_per_epoch=x_train.shape[0]//batch_size)"
   ]
  },
  {
   "cell_type": "code",
   "execution_count": 13,
   "metadata": {},
   "outputs": [
    {
     "name": "stdout",
     "output_type": "stream",
     "text": [
      "10000/10000 [==============================] - 0s     \n"
     ]
    }
   ],
   "source": [
    "model.load_weights(\"CNN.aug_best.weights.hdf5\")\n",
    "score = model.evaluate(x_test,y_test)\n"
   ]
  },
  {
   "cell_type": "code",
   "execution_count": 14,
   "metadata": {},
   "outputs": [
    {
     "name": "stdout",
     "output_type": "stream",
     "text": [
      "79.8\n"
     ]
    }
   ],
   "source": [
    "print(100*score[1])"
   ]
  },
  {
   "cell_type": "code",
   "execution_count": null,
   "metadata": {},
   "outputs": [],
   "source": []
  }
 ],
 "metadata": {
  "kernelspec": {
   "display_name": "Python 3",
   "language": "python",
   "name": "python3"
  },
  "language_info": {
   "codemirror_mode": {
    "name": "ipython",
    "version": 3
   },
   "file_extension": ".py",
   "mimetype": "text/x-python",
   "name": "python",
   "nbconvert_exporter": "python",
   "pygments_lexer": "ipython3",
   "version": "3.5.2"
  }
 },
 "nbformat": 4,
 "nbformat_minor": 2
}
